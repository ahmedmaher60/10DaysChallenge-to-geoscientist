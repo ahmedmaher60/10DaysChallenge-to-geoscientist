{
 "cells": [
  {
   "cell_type": "markdown",
   "id": "74e288f5",
   "metadata": {},
   "source": [
    "# Day 8 : Data Loading and Manipulation and Visulatiozation (Facies)"
   ]
  },
  {
   "cell_type": "markdown",
   "id": "ba257469",
   "metadata": {},
   "source": [
    "### You can use the following liberaries for your assignment:\n",
    "> Numpy, Pandas, Matplotlib, Seaborn, LASIO, Welly"
   ]
  },
  {
   "cell_type": "markdown",
   "id": "3638068e",
   "metadata": {},
   "source": [
    "## Kindly load the las file of well1513.csv file from the data folder\n",
    "## Perform the below Tasks:\n",
    "\n",
    ">1. Investigate the component of the data file (number of columns , numbers of observations, Null values, normal statistics) \n",
    "2. Plot well logs together with Facies column (FORCE_2020_LITHOFACIES_LITHOLOGY) as striplog (facies log)\n",
    "3. How many classes in the facies log.\n",
    "4. How many data points per each class.\n",
    "\n"
   ]
  },
  {
   "cell_type": "code",
   "execution_count": 1,
   "id": "161d312f",
   "metadata": {},
   "outputs": [],
   "source": [
    "#import libraries \n",
    "import lasio\n",
    "import numpy as np # linear algebra\n",
    "import pandas as pd # data processing, CSV file I/O (e.g. pd.read_csv)\n",
    "import matplotlib.pyplot as plt # data visualization \n",
    "import seaborn as sns # data visualization \n",
    "from pandas_profiling import ProfileReport # for reporting "
   ]
  },
  {
   "cell_type": "code",
   "execution_count": 110,
   "id": "1121d831",
   "metadata": {},
   "outputs": [],
   "source": [
    "df = pd.read_csv('well1513.csv')"
   ]
  },
  {
   "cell_type": "code",
   "execution_count": 111,
   "id": "ce3a7869",
   "metadata": {},
   "outputs": [],
   "source": [
    "df = df.drop('Unnamed: 0',axis=1)"
   ]
  },
  {
   "cell_type": "code",
   "execution_count": 4,
   "id": "1f8f52ff",
   "metadata": {},
   "outputs": [
    {
     "name": "stdout",
     "output_type": "stream",
     "text": [
      "Number of columns =  29\n"
     ]
    }
   ],
   "source": [
    "# Number of columns \n",
    "print(f'Number of columns =  {df.shape[1]}')"
   ]
  },
  {
   "cell_type": "code",
   "execution_count": 5,
   "id": "82e9aeeb",
   "metadata": {},
   "outputs": [
    {
     "name": "stdout",
     "output_type": "stream",
     "text": [
      "Number of observation is 18270\n"
     ]
    }
   ],
   "source": [
    "# Number of observation \n",
    "print(f'Number of observation is {df.shape[0]}')"
   ]
  },
  {
   "cell_type": "code",
   "execution_count": 6,
   "id": "acf30b0b",
   "metadata": {},
   "outputs": [
    {
     "name": "stdout",
     "output_type": "stream",
     "text": [
      "Number of Null values = 152438\n"
     ]
    }
   ],
   "source": [
    "# Number of null value \n",
    "print(f'Number of Null values = {df.isnull().sum().sum()}')"
   ]
  },
  {
   "cell_type": "code",
   "execution_count": 7,
   "id": "0a5ceeaf",
   "metadata": {},
   "outputs": [
    {
     "data": {
      "text/html": [
       "<div>\n",
       "<style scoped>\n",
       "    .dataframe tbody tr th:only-of-type {\n",
       "        vertical-align: middle;\n",
       "    }\n",
       "\n",
       "    .dataframe tbody tr th {\n",
       "        vertical-align: top;\n",
       "    }\n",
       "\n",
       "    .dataframe thead th {\n",
       "        text-align: right;\n",
       "    }\n",
       "</style>\n",
       "<table border=\"1\" class=\"dataframe\">\n",
       "  <thead>\n",
       "    <tr style=\"text-align: right;\">\n",
       "      <th></th>\n",
       "      <th>DEPTH_MD</th>\n",
       "      <th>X_LOC</th>\n",
       "      <th>Y_LOC</th>\n",
       "      <th>Z_LOC</th>\n",
       "      <th>CALI</th>\n",
       "      <th>RSHA</th>\n",
       "      <th>RMED</th>\n",
       "      <th>RDEP</th>\n",
       "      <th>RHOB</th>\n",
       "      <th>GR</th>\n",
       "      <th>...</th>\n",
       "      <th>ROP</th>\n",
       "      <th>DTS</th>\n",
       "      <th>DCAL</th>\n",
       "      <th>DRHO</th>\n",
       "      <th>MUDWEIGHT</th>\n",
       "      <th>RMIC</th>\n",
       "      <th>ROPA</th>\n",
       "      <th>RXO</th>\n",
       "      <th>FORCE_2020_LITHOFACIES_LITHOLOGY</th>\n",
       "      <th>FORCE_2020_LITHOFACIES_CONFIDENCE</th>\n",
       "    </tr>\n",
       "  </thead>\n",
       "  <tbody>\n",
       "    <tr>\n",
       "      <th>count</th>\n",
       "      <td>18270.000000</td>\n",
       "      <td>18270.000000</td>\n",
       "      <td>1.827000e+04</td>\n",
       "      <td>18270.000000</td>\n",
       "      <td>18270.000000</td>\n",
       "      <td>1623.000000</td>\n",
       "      <td>18270.000000</td>\n",
       "      <td>18270.000000</td>\n",
       "      <td>18270.000000</td>\n",
       "      <td>18270.000000</td>\n",
       "      <td>...</td>\n",
       "      <td>18161.000000</td>\n",
       "      <td>0.0</td>\n",
       "      <td>0.0</td>\n",
       "      <td>18270.000000</td>\n",
       "      <td>17464.000000</td>\n",
       "      <td>0.0</td>\n",
       "      <td>0.0</td>\n",
       "      <td>1627.000000</td>\n",
       "      <td>18270.000000</td>\n",
       "      <td>18270.000000</td>\n",
       "    </tr>\n",
       "    <tr>\n",
       "      <th>mean</th>\n",
       "      <td>1883.228478</td>\n",
       "      <td>437627.322429</td>\n",
       "      <td>6.470979e+06</td>\n",
       "      <td>-1857.985240</td>\n",
       "      <td>14.789688</td>\n",
       "      <td>2.901504</td>\n",
       "      <td>1.835372</td>\n",
       "      <td>1.832040</td>\n",
       "      <td>2.110451</td>\n",
       "      <td>63.847477</td>\n",
       "      <td>...</td>\n",
       "      <td>27.115614</td>\n",
       "      <td>NaN</td>\n",
       "      <td>NaN</td>\n",
       "      <td>0.012675</td>\n",
       "      <td>0.139777</td>\n",
       "      <td>NaN</td>\n",
       "      <td>NaN</td>\n",
       "      <td>5.748493</td>\n",
       "      <td>60476.696223</td>\n",
       "      <td>1.039080</td>\n",
       "    </tr>\n",
       "    <tr>\n",
       "      <th>std</th>\n",
       "      <td>801.941195</td>\n",
       "      <td>14.359784</td>\n",
       "      <td>3.508944e+00</td>\n",
       "      <td>801.742890</td>\n",
       "      <td>4.377047</td>\n",
       "      <td>3.474120</td>\n",
       "      <td>2.891524</td>\n",
       "      <td>2.197939</td>\n",
       "      <td>0.297725</td>\n",
       "      <td>28.636331</td>\n",
       "      <td>...</td>\n",
       "      <td>30.452190</td>\n",
       "      <td>NaN</td>\n",
       "      <td>NaN</td>\n",
       "      <td>0.047393</td>\n",
       "      <td>0.009454</td>\n",
       "      <td>NaN</td>\n",
       "      <td>NaN</td>\n",
       "      <td>71.588789</td>\n",
       "      <td>13972.748152</td>\n",
       "      <td>0.276835</td>\n",
       "    </tr>\n",
       "    <tr>\n",
       "      <th>min</th>\n",
       "      <td>494.528000</td>\n",
       "      <td>437593.343750</td>\n",
       "      <td>6.470972e+06</td>\n",
       "      <td>-3246.156250</td>\n",
       "      <td>8.186605</td>\n",
       "      <td>0.175400</td>\n",
       "      <td>0.374989</td>\n",
       "      <td>0.352202</td>\n",
       "      <td>1.404576</td>\n",
       "      <td>6.191506</td>\n",
       "      <td>...</td>\n",
       "      <td>0.138586</td>\n",
       "      <td>NaN</td>\n",
       "      <td>NaN</td>\n",
       "      <td>-0.679026</td>\n",
       "      <td>0.129413</td>\n",
       "      <td>NaN</td>\n",
       "      <td>NaN</td>\n",
       "      <td>0.171424</td>\n",
       "      <td>30000.000000</td>\n",
       "      <td>1.000000</td>\n",
       "    </tr>\n",
       "    <tr>\n",
       "      <th>25%</th>\n",
       "      <td>1188.750000</td>\n",
       "      <td>437614.812500</td>\n",
       "      <td>6.470976e+06</td>\n",
       "      <td>-2552.392883</td>\n",
       "      <td>12.125232</td>\n",
       "      <td>0.934778</td>\n",
       "      <td>0.782044</td>\n",
       "      <td>0.799976</td>\n",
       "      <td>1.963399</td>\n",
       "      <td>43.866690</td>\n",
       "      <td>...</td>\n",
       "      <td>4.727499</td>\n",
       "      <td>NaN</td>\n",
       "      <td>NaN</td>\n",
       "      <td>-0.007219</td>\n",
       "      <td>0.133007</td>\n",
       "      <td>NaN</td>\n",
       "      <td>NaN</td>\n",
       "      <td>0.934500</td>\n",
       "      <td>65000.000000</td>\n",
       "      <td>1.000000</td>\n",
       "    </tr>\n",
       "    <tr>\n",
       "      <th>50%</th>\n",
       "      <td>1882.972000</td>\n",
       "      <td>437631.187500</td>\n",
       "      <td>6.470978e+06</td>\n",
       "      <td>-1857.799133</td>\n",
       "      <td>13.913155</td>\n",
       "      <td>1.473143</td>\n",
       "      <td>1.211789</td>\n",
       "      <td>1.293638</td>\n",
       "      <td>2.055079</td>\n",
       "      <td>66.777851</td>\n",
       "      <td>...</td>\n",
       "      <td>30.297560</td>\n",
       "      <td>NaN</td>\n",
       "      <td>NaN</td>\n",
       "      <td>0.001565</td>\n",
       "      <td>0.136602</td>\n",
       "      <td>NaN</td>\n",
       "      <td>NaN</td>\n",
       "      <td>1.455721</td>\n",
       "      <td>65000.000000</td>\n",
       "      <td>1.000000</td>\n",
       "    </tr>\n",
       "    <tr>\n",
       "      <th>75%</th>\n",
       "      <td>2577.802000</td>\n",
       "      <td>437640.781250</td>\n",
       "      <td>6.470982e+06</td>\n",
       "      <td>-1163.699371</td>\n",
       "      <td>18.309367</td>\n",
       "      <td>3.352066</td>\n",
       "      <td>2.067438</td>\n",
       "      <td>2.085021</td>\n",
       "      <td>2.381963</td>\n",
       "      <td>81.542681</td>\n",
       "      <td>...</td>\n",
       "      <td>39.995598</td>\n",
       "      <td>NaN</td>\n",
       "      <td>NaN</td>\n",
       "      <td>0.020022</td>\n",
       "      <td>0.144990</td>\n",
       "      <td>NaN</td>\n",
       "      <td>NaN</td>\n",
       "      <td>3.464941</td>\n",
       "      <td>65000.000000</td>\n",
       "      <td>1.000000</td>\n",
       "    </tr>\n",
       "    <tr>\n",
       "      <th>max</th>\n",
       "      <td>3272.024000</td>\n",
       "      <td>437642.812500</td>\n",
       "      <td>6.470984e+06</td>\n",
       "      <td>-469.501831</td>\n",
       "      <td>23.329569</td>\n",
       "      <td>54.536583</td>\n",
       "      <td>142.606338</td>\n",
       "      <td>49.221905</td>\n",
       "      <td>2.927888</td>\n",
       "      <td>499.022583</td>\n",
       "      <td>...</td>\n",
       "      <td>1083.425415</td>\n",
       "      <td>NaN</td>\n",
       "      <td>NaN</td>\n",
       "      <td>0.210927</td>\n",
       "      <td>0.156973</td>\n",
       "      <td>NaN</td>\n",
       "      <td>NaN</td>\n",
       "      <td>2000.000000</td>\n",
       "      <td>99000.000000</td>\n",
       "      <td>3.000000</td>\n",
       "    </tr>\n",
       "  </tbody>\n",
       "</table>\n",
       "<p>8 rows × 26 columns</p>\n",
       "</div>"
      ],
      "text/plain": [
       "           DEPTH_MD          X_LOC         Y_LOC         Z_LOC          CALI  \\\n",
       "count  18270.000000   18270.000000  1.827000e+04  18270.000000  18270.000000   \n",
       "mean    1883.228478  437627.322429  6.470979e+06  -1857.985240     14.789688   \n",
       "std      801.941195      14.359784  3.508944e+00    801.742890      4.377047   \n",
       "min      494.528000  437593.343750  6.470972e+06  -3246.156250      8.186605   \n",
       "25%     1188.750000  437614.812500  6.470976e+06  -2552.392883     12.125232   \n",
       "50%     1882.972000  437631.187500  6.470978e+06  -1857.799133     13.913155   \n",
       "75%     2577.802000  437640.781250  6.470982e+06  -1163.699371     18.309367   \n",
       "max     3272.024000  437642.812500  6.470984e+06   -469.501831     23.329569   \n",
       "\n",
       "              RSHA          RMED          RDEP          RHOB            GR  \\\n",
       "count  1623.000000  18270.000000  18270.000000  18270.000000  18270.000000   \n",
       "mean      2.901504      1.835372      1.832040      2.110451     63.847477   \n",
       "std       3.474120      2.891524      2.197939      0.297725     28.636331   \n",
       "min       0.175400      0.374989      0.352202      1.404576      6.191506   \n",
       "25%       0.934778      0.782044      0.799976      1.963399     43.866690   \n",
       "50%       1.473143      1.211789      1.293638      2.055079     66.777851   \n",
       "75%       3.352066      2.067438      2.085021      2.381963     81.542681   \n",
       "max      54.536583    142.606338     49.221905      2.927888    499.022583   \n",
       "\n",
       "       ...           ROP  DTS  DCAL          DRHO     MUDWEIGHT  RMIC  ROPA  \\\n",
       "count  ...  18161.000000  0.0   0.0  18270.000000  17464.000000   0.0   0.0   \n",
       "mean   ...     27.115614  NaN   NaN      0.012675      0.139777   NaN   NaN   \n",
       "std    ...     30.452190  NaN   NaN      0.047393      0.009454   NaN   NaN   \n",
       "min    ...      0.138586  NaN   NaN     -0.679026      0.129413   NaN   NaN   \n",
       "25%    ...      4.727499  NaN   NaN     -0.007219      0.133007   NaN   NaN   \n",
       "50%    ...     30.297560  NaN   NaN      0.001565      0.136602   NaN   NaN   \n",
       "75%    ...     39.995598  NaN   NaN      0.020022      0.144990   NaN   NaN   \n",
       "max    ...   1083.425415  NaN   NaN      0.210927      0.156973   NaN   NaN   \n",
       "\n",
       "               RXO  FORCE_2020_LITHOFACIES_LITHOLOGY  \\\n",
       "count  1627.000000                      18270.000000   \n",
       "mean      5.748493                      60476.696223   \n",
       "std      71.588789                      13972.748152   \n",
       "min       0.171424                      30000.000000   \n",
       "25%       0.934500                      65000.000000   \n",
       "50%       1.455721                      65000.000000   \n",
       "75%       3.464941                      65000.000000   \n",
       "max    2000.000000                      99000.000000   \n",
       "\n",
       "       FORCE_2020_LITHOFACIES_CONFIDENCE  \n",
       "count                       18270.000000  \n",
       "mean                            1.039080  \n",
       "std                             0.276835  \n",
       "min                             1.000000  \n",
       "25%                             1.000000  \n",
       "50%                             1.000000  \n",
       "75%                             1.000000  \n",
       "max                             3.000000  \n",
       "\n",
       "[8 rows x 26 columns]"
      ]
     },
     "execution_count": 7,
     "metadata": {},
     "output_type": "execute_result"
    }
   ],
   "source": [
    "# Normal statisitcs\n",
    "df.describe()"
   ]
  },
  {
   "cell_type": "markdown",
   "id": "1784df84",
   "metadata": {},
   "source": [
    "## 2. Plot well logs together with Facies column (FORCE_2020_LITHOFACIES_LITHOLOGY) as striplog (facies log)\n"
   ]
  },
  {
   "cell_type": "code",
   "execution_count": 8,
   "id": "6736d11a",
   "metadata": {},
   "outputs": [
    {
     "data": {
      "text/plain": [
       "65000    12547\n",
       "30000     2937\n",
       "70000     1418\n",
       "65030      708\n",
       "80000      429\n",
       "99000      173\n",
       "74000       41\n",
       "86000       17\n",
       "Name: FORCE_2020_LITHOFACIES_LITHOLOGY, dtype: int64"
      ]
     },
     "execution_count": 8,
     "metadata": {},
     "output_type": "execute_result"
    }
   ],
   "source": [
    "#type of facies\n",
    "df['FORCE_2020_LITHOFACIES_LITHOLOGY'].value_counts()"
   ]
  },
  {
   "cell_type": "code",
   "execution_count": 9,
   "id": "6aed5cc8",
   "metadata": {},
   "outputs": [
    {
     "name": "stderr",
     "output_type": "stream",
     "text": [
      "C:\\Users\\AHMED\\AppData\\Local\\Temp\\ipykernel_3412\\2470175724.py:1: FutureWarning: Indexing with multiple keys (implicitly converted to a tuple of keys) will be deprecated, use a list instead.\n",
      "  df.groupby('FORCE_2020_LITHOFACIES_LITHOLOGY')['CALI','RSHA','RMED','RDEP','RHOB','GR','NPHI','PEF','DTC','SP'].sum()\n"
     ]
    },
    {
     "data": {
      "text/html": [
       "<div>\n",
       "<style scoped>\n",
       "    .dataframe tbody tr th:only-of-type {\n",
       "        vertical-align: middle;\n",
       "    }\n",
       "\n",
       "    .dataframe tbody tr th {\n",
       "        vertical-align: top;\n",
       "    }\n",
       "\n",
       "    .dataframe thead th {\n",
       "        text-align: right;\n",
       "    }\n",
       "</style>\n",
       "<table border=\"1\" class=\"dataframe\">\n",
       "  <thead>\n",
       "    <tr style=\"text-align: right;\">\n",
       "      <th></th>\n",
       "      <th>CALI</th>\n",
       "      <th>RSHA</th>\n",
       "      <th>RMED</th>\n",
       "      <th>RDEP</th>\n",
       "      <th>RHOB</th>\n",
       "      <th>GR</th>\n",
       "      <th>NPHI</th>\n",
       "      <th>PEF</th>\n",
       "      <th>DTC</th>\n",
       "      <th>SP</th>\n",
       "    </tr>\n",
       "    <tr>\n",
       "      <th>FORCE_2020_LITHOFACIES_LITHOLOGY</th>\n",
       "      <th></th>\n",
       "      <th></th>\n",
       "      <th></th>\n",
       "      <th></th>\n",
       "      <th></th>\n",
       "      <th></th>\n",
       "      <th></th>\n",
       "      <th></th>\n",
       "      <th></th>\n",
       "      <th></th>\n",
       "    </tr>\n",
       "  </thead>\n",
       "  <tbody>\n",
       "    <tr>\n",
       "      <th>30000</th>\n",
       "      <td>57148.741310</td>\n",
       "      <td>1158.610592</td>\n",
       "      <td>4263.269508</td>\n",
       "      <td>5153.817731</td>\n",
       "      <td>5257.373067</td>\n",
       "      <td>102856.835333</td>\n",
       "      <td>753.491565</td>\n",
       "      <td>10423.795747</td>\n",
       "      <td>4.028878e+05</td>\n",
       "      <td>147471.011627</td>\n",
       "    </tr>\n",
       "    <tr>\n",
       "      <th>65000</th>\n",
       "      <td>177383.508766</td>\n",
       "      <td>987.790971</td>\n",
       "      <td>17281.976927</td>\n",
       "      <td>17665.690065</td>\n",
       "      <td>26743.008615</td>\n",
       "      <td>971905.976668</td>\n",
       "      <td>4303.329972</td>\n",
       "      <td>35216.601570</td>\n",
       "      <td>1.628933e+06</td>\n",
       "      <td>906144.558290</td>\n",
       "    </tr>\n",
       "    <tr>\n",
       "      <th>65030</th>\n",
       "      <td>10702.126866</td>\n",
       "      <td>92.073522</td>\n",
       "      <td>1042.986070</td>\n",
       "      <td>1112.740843</td>\n",
       "      <td>1381.094947</td>\n",
       "      <td>43739.593269</td>\n",
       "      <td>216.255984</td>\n",
       "      <td>1429.433427</td>\n",
       "      <td>9.351604e+04</td>\n",
       "      <td>47110.126938</td>\n",
       "    </tr>\n",
       "    <tr>\n",
       "      <th>70000</th>\n",
       "      <td>17431.570134</td>\n",
       "      <td>2397.062541</td>\n",
       "      <td>7659.740748</td>\n",
       "      <td>7189.953068</td>\n",
       "      <td>3585.716583</td>\n",
       "      <td>22931.842621</td>\n",
       "      <td>233.076733</td>\n",
       "      <td>6938.266822</td>\n",
       "      <td>9.572095e+04</td>\n",
       "      <td>124402.650135</td>\n",
       "    </tr>\n",
       "    <tr>\n",
       "      <th>74000</th>\n",
       "      <td>349.568042</td>\n",
       "      <td>0.000000</td>\n",
       "      <td>606.430765</td>\n",
       "      <td>490.353207</td>\n",
       "      <td>110.786362</td>\n",
       "      <td>789.413269</td>\n",
       "      <td>7.674104</td>\n",
       "      <td>0.000000</td>\n",
       "      <td>0.000000e+00</td>\n",
       "      <td>6137.625595</td>\n",
       "    </tr>\n",
       "    <tr>\n",
       "      <th>80000</th>\n",
       "      <td>4556.778986</td>\n",
       "      <td>73.602648</td>\n",
       "      <td>1570.629064</td>\n",
       "      <td>1309.782406</td>\n",
       "      <td>1072.430947</td>\n",
       "      <td>15947.976503</td>\n",
       "      <td>80.186065</td>\n",
       "      <td>2181.705776</td>\n",
       "      <td>3.409855e+04</td>\n",
       "      <td>46059.407425</td>\n",
       "    </tr>\n",
       "    <tr>\n",
       "      <th>86000</th>\n",
       "      <td>143.987020</td>\n",
       "      <td>0.000000</td>\n",
       "      <td>953.209480</td>\n",
       "      <td>406.390311</td>\n",
       "      <td>47.841863</td>\n",
       "      <td>459.134863</td>\n",
       "      <td>1.761367</td>\n",
       "      <td>0.000000</td>\n",
       "      <td>0.000000e+00</td>\n",
       "      <td>2524.620148</td>\n",
       "    </tr>\n",
       "    <tr>\n",
       "      <th>99000</th>\n",
       "      <td>2491.311193</td>\n",
       "      <td>0.000000</td>\n",
       "      <td>154.009408</td>\n",
       "      <td>142.638723</td>\n",
       "      <td>359.679154</td>\n",
       "      <td>7862.632387</td>\n",
       "      <td>80.827914</td>\n",
       "      <td>755.904373</td>\n",
       "      <td>2.040042e+04</td>\n",
       "      <td>12048.025383</td>\n",
       "    </tr>\n",
       "  </tbody>\n",
       "</table>\n",
       "</div>"
      ],
      "text/plain": [
       "                                           CALI         RSHA          RMED  \\\n",
       "FORCE_2020_LITHOFACIES_LITHOLOGY                                             \n",
       "30000                              57148.741310  1158.610592   4263.269508   \n",
       "65000                             177383.508766   987.790971  17281.976927   \n",
       "65030                              10702.126866    92.073522   1042.986070   \n",
       "70000                              17431.570134  2397.062541   7659.740748   \n",
       "74000                                349.568042     0.000000    606.430765   \n",
       "80000                               4556.778986    73.602648   1570.629064   \n",
       "86000                                143.987020     0.000000    953.209480   \n",
       "99000                               2491.311193     0.000000    154.009408   \n",
       "\n",
       "                                          RDEP          RHOB             GR  \\\n",
       "FORCE_2020_LITHOFACIES_LITHOLOGY                                              \n",
       "30000                              5153.817731   5257.373067  102856.835333   \n",
       "65000                             17665.690065  26743.008615  971905.976668   \n",
       "65030                              1112.740843   1381.094947   43739.593269   \n",
       "70000                              7189.953068   3585.716583   22931.842621   \n",
       "74000                               490.353207    110.786362     789.413269   \n",
       "80000                              1309.782406   1072.430947   15947.976503   \n",
       "86000                               406.390311     47.841863     459.134863   \n",
       "99000                               142.638723    359.679154    7862.632387   \n",
       "\n",
       "                                         NPHI           PEF           DTC  \\\n",
       "FORCE_2020_LITHOFACIES_LITHOLOGY                                            \n",
       "30000                              753.491565  10423.795747  4.028878e+05   \n",
       "65000                             4303.329972  35216.601570  1.628933e+06   \n",
       "65030                              216.255984   1429.433427  9.351604e+04   \n",
       "70000                              233.076733   6938.266822  9.572095e+04   \n",
       "74000                                7.674104      0.000000  0.000000e+00   \n",
       "80000                               80.186065   2181.705776  3.409855e+04   \n",
       "86000                                1.761367      0.000000  0.000000e+00   \n",
       "99000                               80.827914    755.904373  2.040042e+04   \n",
       "\n",
       "                                             SP  \n",
       "FORCE_2020_LITHOFACIES_LITHOLOGY                 \n",
       "30000                             147471.011627  \n",
       "65000                             906144.558290  \n",
       "65030                              47110.126938  \n",
       "70000                             124402.650135  \n",
       "74000                               6137.625595  \n",
       "80000                              46059.407425  \n",
       "86000                               2524.620148  \n",
       "99000                              12048.025383  "
      ]
     },
     "execution_count": 9,
     "metadata": {},
     "output_type": "execute_result"
    }
   ],
   "source": [
    "df.groupby('FORCE_2020_LITHOFACIES_LITHOLOGY')['CALI','RSHA','RMED','RDEP','RHOB','GR','NPHI','PEF','DTC','SP'].sum()"
   ]
  },
  {
   "cell_type": "code",
   "execution_count": 10,
   "id": "100dcbda",
   "metadata": {},
   "outputs": [
    {
     "name": "stderr",
     "output_type": "stream",
     "text": [
      "C:\\Users\\AHMED\\AppData\\Local\\Temp\\ipykernel_3412\\892744239.py:1: FutureWarning: Indexing with multiple keys (implicitly converted to a tuple of keys) will be deprecated, use a list instead.\n",
      "  grouped_data = df.groupby('FORCE_2020_LITHOFACIES_LITHOLOGY')['CALI','RSHA','RMED','RDEP','RHOB','GR','NPHI','PEF','DTC','SP'].sum()\n"
     ]
    },
    {
     "data": {
      "image/png": "[encoded data removed]",
      "text/plain": [
       "<Figure size 432x288 with 1 Axes>"
      ]
     },
     "metadata": {
      "needs_background": "light"
     },
     "output_type": "display_data"
    }
   ],
   "source": [
    "grouped_data = df.groupby('FORCE_2020_LITHOFACIES_LITHOLOGY')['CALI','RSHA','RMED','RDEP','RHOB','GR','NPHI','PEF','DTC','SP'].sum()\n",
    "\n",
    "# Plot the data\n",
    "grouped_data.plot(kind='bar', stacked=True)\n",
    "plt.show()"
   ]
  },
  {
   "cell_type": "code",
   "execution_count": 33,
   "id": "3ca258c4",
   "metadata": {},
   "outputs": [
    {
     "name": "stdout",
     "output_type": "stream",
     "text": [
      "Collecting striplog\n",
      "  Downloading striplog-0.9.2-py3-none-any.whl (90 kB)\n",
      "Requirement already satisfied: matplotlib in c:\\users\\ahmed\\anaconda3\\lib\\site-packages (from striplog) (3.5.1)\n",
      "Requirement already satisfied: requests in c:\\users\\ahmed\\anaconda3\\lib\\site-packages (from striplog) (2.27.1)\n",
      "Requirement already satisfied: numpy in c:\\users\\ahmed\\anaconda3\\lib\\site-packages (from striplog) (1.21.6)\n",
      "Requirement already satisfied: scipy in c:\\users\\ahmed\\anaconda3\\lib\\site-packages (from striplog) (1.7.3)\n",
      "Requirement already satisfied: pyparsing>=2.2.1 in c:\\users\\ahmed\\anaconda3\\lib\\site-packages (from matplotlib->striplog) (3.0.4)\n",
      "Requirement already satisfied: packaging>=20.0 in c:\\users\\ahmed\\anaconda3\\lib\\site-packages (from matplotlib->striplog) (21.3)\n",
      "Requirement already satisfied: kiwisolver>=1.0.1 in c:\\users\\ahmed\\anaconda3\\lib\\site-packages (from matplotlib->striplog) (1.3.2)\n",
      "Requirement already satisfied: python-dateutil>=2.7 in c:\\users\\ahmed\\anaconda3\\lib\\site-packages (from matplotlib->striplog) (2.8.2)\n",
      "Requirement already satisfied: fonttools>=4.22.0 in c:\\users\\ahmed\\anaconda3\\lib\\site-packages (from matplotlib->striplog) (4.25.0)\n",
      "Requirement already satisfied: cycler>=0.10 in c:\\users\\ahmed\\anaconda3\\lib\\site-packages (from matplotlib->striplog) (0.11.0)\n",
      "Requirement already satisfied: pillow>=6.2.0 in c:\\users\\ahmed\\anaconda3\\lib\\site-packages (from matplotlib->striplog) (9.0.1)\n",
      "Requirement already satisfied: six>=1.5 in c:\\users\\ahmed\\anaconda3\\lib\\site-packages (from python-dateutil>=2.7->matplotlib->striplog) (1.16.0)\n",
      "Requirement already satisfied: charset-normalizer~=2.0.0 in c:\\users\\ahmed\\anaconda3\\lib\\site-packages (from requests->striplog) (2.0.4)\n",
      "Requirement already satisfied: urllib3<1.27,>=1.21.1 in c:\\users\\ahmed\\anaconda3\\lib\\site-packages (from requests->striplog) (1.26.9)\n",
      "Requirement already satisfied: idna<4,>=2.5 in c:\\users\\ahmed\\anaconda3\\lib\\site-packages (from requests->striplog) (3.3)\n",
      "Requirement already satisfied: certifi>=2017.4.17 in c:\\users\\ahmed\\anaconda3\\lib\\site-packages (from requests->striplog) (2022.6.15)\n",
      "Installing collected packages: striplog\n",
      "Successfully installed striplog-0.9.2\n",
      "Note: you may need to restart the kernel to use updated packages.\n"
     ]
    }
   ],
   "source": [
    "pip install striplog"
   ]
  },
  {
   "cell_type": "code",
   "execution_count": 11,
   "id": "6728dd03",
   "metadata": {},
   "outputs": [],
   "source": [
    "depth = df['DEPTH_MD']\n",
    "lithotype = df['FORCE_2020_LITHOFACIES_LITHOLOGY']\n",
    "KEY = {65000: 'A', 30000: 'B', 70000: 'C', 65030: 'D',80000:'E',99000:'F',74000:'G',86000:'H'}"
   ]
  },
  {
   "cell_type": "code",
   "execution_count": 12,
   "id": "db6be9b0",
   "metadata": {},
   "outputs": [],
   "source": [
    "from striplog import Striplog, Component, Interval\n",
    "\n",
    "intervals = []\n",
    "for top, base, lith in zip(depth, depth[1:], lithotype):\n",
    "    comp = Component({'lithology': KEY[lith]})\n",
    "    iv = Interval(top, base, components=[comp])\n",
    "    intervals.append(iv)\n",
    "    \n",
    "s = Striplog(intervals).merge_neighbours() "
   ]
  },
  {
   "cell_type": "code",
   "execution_count": 13,
   "id": "b0736ede",
   "metadata": {},
   "outputs": [
    {
     "data": {
      "image/png": "[encoded data removed]",
      "text/plain": [
       "<Figure size 108x1836 with 1 Axes>"
      ]
     },
     "metadata": {
      "needs_background": "light"
     },
     "output_type": "display_data"
    }
   ],
   "source": [
    "from striplog import Legend\n",
    "\n",
    "legend_csv = u\"\"\"colour, width, component lithology\n",
    "#521717, 65000, A\n",
    "#c4aa00, 30000, B\n",
    "#4ec400, 70000, C\n",
    "#00c4a0, 65030, D\n",
    "#0062c4, 80000 , E\n",
    "#F7E9A6, 99000 , F\n",
    "#c4006f, 74000 , G\n",
    "#274538, 86000 , H\n",
    "\"\"\"\n",
    "\n",
    "legend = Legend.from_csv(text=legend_csv)\n",
    "s.plot(legend=legend, aspect=17, label='lithology')"
   ]
  },
  {
   "cell_type": "code",
   "execution_count": 22,
   "id": "a6848763",
   "metadata": {},
   "outputs": [
    {
     "data": {
      "text/plain": [
       "65000    12547\n",
       "30000     2937\n",
       "70000     1418\n",
       "65030      708\n",
       "80000      429\n",
       "99000      173\n",
       "74000       41\n",
       "86000       17\n",
       "Name: FORCE_2020_LITHOFACIES_LITHOLOGY, dtype: int64"
      ]
     },
     "execution_count": 22,
     "metadata": {},
     "output_type": "execute_result"
    }
   ],
   "source": [
    "df['FORCE_2020_LITHOFACIES_LITHOLOGY'].value_counts()"
   ]
  },
  {
   "cell_type": "code",
   "execution_count": 26,
   "id": "89bb6f77",
   "metadata": {},
   "outputs": [],
   "source": [
    "lithology_numbers = {30000: {'lith':'A', 'lith_num':1, 'hatch': '..', 'color':'#ffff00'},\n",
    "                     65030: {'lith':'B', 'lith_num':2, 'hatch':'-.', 'color':'#ffe119'},\n",
    "                     65000: {'lith':'C', 'lith_num':3, 'hatch':'--', 'color':'#bebebe'},\n",
    "                     80000: {'lith':'D', 'lith_num':4, 'hatch':'', 'color':'#7cfc00'},\n",
    "                     74000: {'lith':'E', 'lith_num':5, 'hatch':'-/', 'color':'#8080ff'},\n",
    "                     70000: {'lith':'F', 'lith_num':6, 'hatch':'+', 'color':'#80ffff'},\n",
    "                     86000: {'lith':'G', 'lith_num':9, 'hatch':'', 'color':'#ff80ff'},\n",
    "                     99000: {'lith':'H', 'lith_num':10, 'hatch':'||', 'color':'#ff8c00'}}\n"
   ]
  },
  {
   "cell_type": "code",
   "execution_count": 30,
   "id": "19840e99",
   "metadata": {},
   "outputs": [],
   "source": [
    "df_lith = pd.DataFrame.from_dict(lithology_numbers, orient='index')\n",
    "df_lith.index.name = 'FORCE_2020_LITHOFACIES_LITHOLOGY'\n"
   ]
  },
  {
   "cell_type": "code",
   "execution_count": 31,
   "id": "7f896223",
   "metadata": {},
   "outputs": [
    {
     "data": {
      "text/html": [
       "<div>\n",
       "<style scoped>\n",
       "    .dataframe tbody tr th:only-of-type {\n",
       "        vertical-align: middle;\n",
       "    }\n",
       "\n",
       "    .dataframe tbody tr th {\n",
       "        vertical-align: top;\n",
       "    }\n",
       "\n",
       "    .dataframe thead th {\n",
       "        text-align: right;\n",
       "    }\n",
       "</style>\n",
       "<table border=\"1\" class=\"dataframe\">\n",
       "  <thead>\n",
       "    <tr style=\"text-align: right;\">\n",
       "      <th></th>\n",
       "      <th>lith</th>\n",
       "      <th>lith_num</th>\n",
       "      <th>hatch</th>\n",
       "      <th>color</th>\n",
       "    </tr>\n",
       "    <tr>\n",
       "      <th>FORCE_2020_LITHOFACIES_LITHOLOGY</th>\n",
       "      <th></th>\n",
       "      <th></th>\n",
       "      <th></th>\n",
       "      <th></th>\n",
       "    </tr>\n",
       "  </thead>\n",
       "  <tbody>\n",
       "    <tr>\n",
       "      <th>30000</th>\n",
       "      <td>A</td>\n",
       "      <td>1</td>\n",
       "      <td>..</td>\n",
       "      <td>#ffff00</td>\n",
       "    </tr>\n",
       "    <tr>\n",
       "      <th>65030</th>\n",
       "      <td>B</td>\n",
       "      <td>2</td>\n",
       "      <td>-.</td>\n",
       "      <td>#ffe119</td>\n",
       "    </tr>\n",
       "    <tr>\n",
       "      <th>65000</th>\n",
       "      <td>C</td>\n",
       "      <td>3</td>\n",
       "      <td>--</td>\n",
       "      <td>#bebebe</td>\n",
       "    </tr>\n",
       "    <tr>\n",
       "      <th>80000</th>\n",
       "      <td>D</td>\n",
       "      <td>4</td>\n",
       "      <td></td>\n",
       "      <td>#7cfc00</td>\n",
       "    </tr>\n",
       "    <tr>\n",
       "      <th>74000</th>\n",
       "      <td>E</td>\n",
       "      <td>5</td>\n",
       "      <td>-/</td>\n",
       "      <td>#8080ff</td>\n",
       "    </tr>\n",
       "    <tr>\n",
       "      <th>70000</th>\n",
       "      <td>F</td>\n",
       "      <td>6</td>\n",
       "      <td>+</td>\n",
       "      <td>#80ffff</td>\n",
       "    </tr>\n",
       "    <tr>\n",
       "      <th>86000</th>\n",
       "      <td>G</td>\n",
       "      <td>9</td>\n",
       "      <td></td>\n",
       "      <td>#ff80ff</td>\n",
       "    </tr>\n",
       "    <tr>\n",
       "      <th>99000</th>\n",
       "      <td>H</td>\n",
       "      <td>10</td>\n",
       "      <td>||</td>\n",
       "      <td>#ff8c00</td>\n",
       "    </tr>\n",
       "  </tbody>\n",
       "</table>\n",
       "</div>"
      ],
      "text/plain": [
       "                                 lith  lith_num hatch    color\n",
       "FORCE_2020_LITHOFACIES_LITHOLOGY                              \n",
       "30000                               A         1    ..  #ffff00\n",
       "65030                               B         2    -.  #ffe119\n",
       "65000                               C         3    --  #bebebe\n",
       "80000                               D         4        #7cfc00\n",
       "74000                               E         5    -/  #8080ff\n",
       "70000                               F         6     +  #80ffff\n",
       "86000                               G         9        #ff80ff\n",
       "99000                               H        10    ||  #ff8c00"
      ]
     },
     "execution_count": 31,
     "metadata": {},
     "output_type": "execute_result"
    }
   ],
   "source": [
    "df_lith"
   ]
  },
  {
   "cell_type": "code",
   "execution_count": 33,
   "id": "6a9aadff",
   "metadata": {},
   "outputs": [
    {
     "data": {
      "image/png": "[encoded data removed]",
      "text/plain": [
       "<Figure size 720x360 with 8 Axes>"
      ]
     },
     "metadata": {},
     "output_type": "display_data"
    }
   ],
   "source": [
    "y = [0, 1]\n",
    "x = [1, 1]\n",
    "\n",
    "fig, axes = plt.subplots(ncols=4,nrows=2, sharex=True, sharey=True,\n",
    "                         figsize=(10,5), subplot_kw={'xticks': [], 'yticks': []})\n",
    "\n",
    "for ax, key in zip(axes.flat, lithology_numbers.keys()):\n",
    "    ax.plot(x, y)\n",
    "    ax.fill_betweenx(y, 0, 1, facecolor=lithology_numbers[key]['color'], hatch=lithology_numbers[key]['hatch'])\n",
    "    ax.set_xlim(0, 0.1)\n",
    "    ax.set_ylim(0, 1)\n",
    "    ax.set_title(str(lithology_numbers[key]['lith']))\n",
    "\n",
    "plt.tight_layout()\n",
    "\n",
    "plt.show()"
   ]
  },
  {
   "cell_type": "code",
   "execution_count": 207,
   "id": "9d60df8c",
   "metadata": {},
   "outputs": [
    {
     "data": {
      "image/png": "[encoded data removed]",
      "text/plain": [
       "<Figure size 1080x720 with 14 Axes>"
      ]
     },
     "metadata": {
      "needs_background": "light"
     },
     "output_type": "display_data"
    }
   ],
   "source": [
    "\n",
    "    fig , ax = plt.subplots(figsize=(15 ,10))\n",
    "\n",
    "    #increase space between graphs\n",
    "    fig.subplots_adjust(wspace=0.5)\n",
    "\n",
    "\n",
    "    #Set up the plot axes\n",
    "    ax1 = plt.subplot2grid((1,5),(0,0),rowspan=1,colspan=1)#Gamma ray\n",
    "    ax2 = ax1.twiny() #Caliper\n",
    "    ax9 = ax1.twiny() #Caliper\n",
    "    ax3 = plt.subplot2grid((1,5),(0,1),rowspan=1,colspan=1)#RSHA\n",
    "    ax4 = ax3.twiny()#RMED\n",
    "    ax5 = ax3.twiny()#RDEP\n",
    "    ax6 = plt.subplot2grid((1,5),(0,2),rowspan=1,colspan=1)#RHOB\n",
    "    ax7 = ax6.twiny()#NPHI\n",
    "    ax8 = plt.subplot2grid((1,5),(0,3),rowspan=1,colspan=1)#DTC\n",
    "    ax14 = plt.subplot2grid((1,5),(0,4),rowspan=1,colspan=1)#DTC\n",
    "\n",
    "    #############################################################################################################\n",
    "\n",
    "    # this code adds the top border back in without dealing with splines\n",
    "    ax10 = ax1.twiny() \n",
    "    ax10.xaxis.set_visible(False)\n",
    "    ax11 = ax3.twiny()\n",
    "    ax11.xaxis.set_visible(False)\n",
    "    ax12 = ax6.twiny()\n",
    "    ax12.xaxis.set_visible(False)\n",
    "    ax13 = ax8.twiny()\n",
    "    ax13.xaxis.set_visible(False)\n",
    "\n",
    "    ############################################################################################################\n",
    "\n",
    "    # Gamma Ray track\n",
    "    ax1.plot('GR','DEPTH_MD',data = df , color = 'green')\n",
    "    ax1.set_xlabel(\"Gamma\") # x-label name \n",
    "    ax1.xaxis.label.set_color(\"green\") # color of label\n",
    "    ax1.spines[\"top\"].set_edgecolor(\"green\")  # position and color of line scale \n",
    "    ax1.tick_params(axis='x', colors=\"green\") # color of numbers on scale line \n",
    "\n",
    "\n",
    "    # Caliper track placed ontop of GR track\n",
    "    ax2.plot(\"CALI\", \"DEPTH_MD\", data = df, color = \"blue\" ,linestyle='-')\n",
    "    ax2.set_xlabel('CALI')\n",
    "    ax2.xaxis.label.set_color(\"blue\")\n",
    "    ax2.spines[\"top\"].set_edgecolor(\"blue\")\n",
    "    ax2.tick_params(axis='x', colors=\"blue\")\n",
    "    ax2.spines[\"top\"].set_position((\"axes\", 1.08))\n",
    "    ax2.spines[\"top\"].set_visible(True)\n",
    "\n",
    "\n",
    "    # SP track\n",
    "    ax9.plot('SP', \"DEPTH_MD\", data = df, color = \"purple\")\n",
    "    ax9.set_xlabel(\"SP\")\n",
    "    ax9.xaxis.label.set_color(\"purple\")\n",
    "    ax9.spines[\"top\"].set_edgecolor(\"purple\") \n",
    "    ax9.tick_params(axis='x', colors=\"purple\")  \n",
    "    ax9.spines[\"top\"].set_position((\"axes\",1.15)) #position and location of axis above curve \n",
    "    ax9.spines[\"top\"].set_visible(True) #display axis\n",
    "\n",
    "    #############################################################################################################\n",
    "\n",
    "    # RSHA track\n",
    "    ax3.plot('RSHA','DEPTH_MD',data = df , color = 'blue')\n",
    "    ax3.set_xlabel(\"RSHA\") # x-label name \n",
    "    ax3.xaxis.label.set_color(\"blue\") # color of label\n",
    "    ax3.spines[\"top\"].set_edgecolor(\"blue\")  # position and color of line scale \n",
    "    ax3.tick_params(axis='x', colors=\"blue\") # color of numbers on scale line \n",
    "\n",
    "\n",
    "    # RMED track\n",
    "    ax4.plot('RSHA','DEPTH_MD',data = df , color = 'red')\n",
    "    ax4.set_xlabel(\"RMED\") # x-label name \n",
    "    ax4.xaxis.label.set_color(\"red\") # color of label\n",
    "    ax4.spines[\"top\"].set_edgecolor(\"red\")  # position and color of line scale \n",
    "    ax4.tick_params(axis='x', colors=\"red\") # color of numbers on scale line \n",
    "    ax4.spines[\"top\"].set_position((\"axes\", 1.08))\n",
    "    ax4.spines[\"top\"].set_visible(True)\n",
    "\n",
    "   # RDEP track\n",
    "    ax5.plot('RDEP', \"DEPTH_MD\", data = df, color = \"black\")\n",
    "    ax5.set_xlabel(\"RDEP\")\n",
    "    ax5.xaxis.label.set_color(\"black\")\n",
    "    ax5.spines[\"top\"].set_edgecolor(\"black\") \n",
    "    ax5.tick_params(axis='x', colors=\"black\")  \n",
    "    ax5.spines[\"top\"].set_position((\"axes\",1.15)) #position and location of axis above curve \n",
    "    ax5.spines[\"top\"].set_visible(True) #display axis\n",
    "\n",
    "    ############################################################################################################\n",
    "\n",
    "    # Density track\n",
    "    ax6.plot('RHOB','DEPTH_MD',data = df , color = 'blue')\n",
    "    ax6.set_xlabel(\"RHOB\") # x-label name \n",
    "    ax6.xaxis.label.set_color(\"blue\") # color of label\n",
    "    ax6.spines[\"top\"].set_edgecolor(\"blue\")  # position and color of line scale \n",
    "    ax6.tick_params(axis='x', colors=\"blue\") # color of numbers on scale line \n",
    "\n",
    "\n",
    "    # NEUTRON  track\n",
    "    ax7.plot('NPHI','DEPTH_MD',data = df , color = 'red')\n",
    "    ax7.set_xlabel(\"NPHI\") # x-label name \n",
    "    ax7.xaxis.label.set_color(\"red\") # color of label\n",
    "    ax7.spines[\"top\"].set_edgecolor(\"red\")  # position and color of line scale \n",
    "    ax7.tick_params(axis='x', colors=\"red\") # color of numbers on scale line \n",
    "    ax7.spines[\"top\"].set_position((\"axes\", 1.08))\n",
    "    ax7.spines[\"top\"].set_visible(True)\n",
    "\n",
    "    ############################################################################################################\n",
    "\n",
    "    # Sonic track\n",
    "    ax8.plot(df[\"DTC\"], \"DEPTH_MD\", data = df, color = \"blue\")\n",
    "    ax8.set_xlabel(\"Sonic\")\n",
    "    ax8.xaxis.label.set_color(\"blue\")\n",
    "    ax8.spines[\"top\"].set_edgecolor(\"blue\") \n",
    "    ax8.tick_params(axis='x', colors=\"blue\")  \n",
    "    ##############################################################################################################\n",
    "  # Lithology track\n",
    "    ax14.plot(df[\"FORCE_2020_LITHOFACIES_LITHOLOGY\"], df['DEPTH_MD'], color = \"black\", linewidth = 0.5)\n",
    "    ax14.set_xlabel(\"Lithology\")\n",
    "    ax14.set_xlim(0, 1)\n",
    "    ax14.xaxis.label.set_color(\"black\")\n",
    "    ax14.tick_params(axis='x', colors=\"black\")\n",
    "    ax14.spines[\"top\"].set_edgecolor(\"black\")\n",
    "\n",
    "    for key in lithology_numbers.keys():\n",
    "        color = lithology_numbers[key]['color']\n",
    "        hatch = lithology_numbers[key]['hatch']\n",
    "        ax14.fill_betweenx(df['DEPTH_MD'], 0, df['FORCE_2020_LITHOFACIES_LITHOLOGY'], where=(df['FORCE_2020_LITHOFACIES_LITHOLOGY']==key),\n",
    "                         facecolor=color, hatch=hatch) \n",
    "        ax14.set_xticks([0, 1])\n",
    "\n",
    "\n",
    "    for ax in [ax1, ax3,ax6,ax8]:\n",
    "        ax.set_ylim(df['DEPTH_MD'].min(), df['DEPTH_MD'].max()) # scale of depth to all curves\n",
    "        ax.grid(which='major', color='lightgrey', linestyle='-')# shape and color of grid to all curves \n",
    "        ax.xaxis.set_ticks_position(\"top\") \n",
    "        ax.xaxis.set_label_position(\"top\")\n",
    "        ax.spines[\"top\"].set_position((\"axes\", 1.01235)) # distance between (scale line) and graphs \n",
    "    \n",
    "    plt.tight_layout()"
   ]
  },
  {
   "cell_type": "markdown",
   "id": "c9769fb5",
   "metadata": {},
   "source": [
    "## Q3 - How many classes in the facies log.\n"
   ]
  },
  {
   "cell_type": "code",
   "execution_count": 54,
   "id": "5eea90ea",
   "metadata": {},
   "outputs": [
    {
     "name": "stdout",
     "output_type": "stream",
     "text": [
      "Number of classes in facies log = 8\n"
     ]
    }
   ],
   "source": [
    "classes = df['FORCE_2020_LITHOFACIES_LITHOLOGY'].nunique()\n",
    "print(f'Number of classes in facies log = {classes}')"
   ]
  },
  {
   "cell_type": "markdown",
   "id": "86799826",
   "metadata": {},
   "source": [
    "## Q4. How many data points per each class\n"
   ]
  },
  {
   "cell_type": "code",
   "execution_count": 71,
   "id": "24e0afa0",
   "metadata": {},
   "outputs": [
    {
     "name": "stdout",
     "output_type": "stream",
     "text": [
      "Data point of class 65000 is 12547\n",
      "Data point of class 30000 is 2937\n",
      "Data point of class 65030 is 708\n",
      "Data point of class 70000 is 1418\n",
      "Data point of class 99000 is 173\n",
      "Data point of class 80000 is 429\n",
      "Data point of class 86000 is 17\n",
      "Data point of class 74000 is 41\n"
     ]
    }
   ],
   "source": [
    "for x in df['FORCE_2020_LITHOFACIES_LITHOLOGY'].unique():\n",
    "    print(f'Data point of class {x} is {(df[\"FORCE_2020_LITHOFACIES_LITHOLOGY\"] == x).sum()}')"
   ]
  },
  {
   "cell_type": "markdown",
   "id": "fe9b554b",
   "metadata": {},
   "source": [
    "# Day 10 : Data Loading and Manipulation and Visulatiozation (Facies)\n",
    "## You can use the following liberaries for your assignment:\n",
    ">Numpy, Pandas, Matplotlib, Seaborn, LASIO, Welly\n",
    "\n",
    "## Kindly load the las file of well1513.csv file from the data folder\n",
    "## Perform the below Tasks:\n",
    "\n",
    ">1. Investigate the component of the data file (number of columns , numbers of observations, Null values, normal statistics) \n",
    "2. Create subset including (DT, NPHI, GR,SP) logs\n",
    "3. Create a function to Normalize the well logs using formula (X-Xmin / Xmax-Xmin).\n",
    "4. Create a function to Standarize the well logs using formula (X-mean / standard deviation).\n",
    "5. Plot histogram of the normalized and standarized well logs."
   ]
  },
  {
   "cell_type": "code",
   "execution_count": 170,
   "id": "cfd91884",
   "metadata": {},
   "outputs": [],
   "source": [
    "df = pd.read_csv('well1513.csv')"
   ]
  },
  {
   "cell_type": "code",
   "execution_count": 171,
   "id": "00631f0a",
   "metadata": {},
   "outputs": [],
   "source": [
    "subset = df[['DTC','NPHI','GR','SP']]"
   ]
  },
  {
   "cell_type": "code",
   "execution_count": 172,
   "id": "8e7a8b76",
   "metadata": {},
   "outputs": [
    {
     "data": {
      "text/html": [
       "<div>\n",
       "<style scoped>\n",
       "    .dataframe tbody tr th:only-of-type {\n",
       "        vertical-align: middle;\n",
       "    }\n",
       "\n",
       "    .dataframe tbody tr th {\n",
       "        vertical-align: top;\n",
       "    }\n",
       "\n",
       "    .dataframe thead th {\n",
       "        text-align: right;\n",
       "    }\n",
       "</style>\n",
       "<table border=\"1\" class=\"dataframe\">\n",
       "  <thead>\n",
       "    <tr style=\"text-align: right;\">\n",
       "      <th></th>\n",
       "      <th>DTC</th>\n",
       "      <th>NPHI</th>\n",
       "      <th>GR</th>\n",
       "      <th>SP</th>\n",
       "    </tr>\n",
       "  </thead>\n",
       "  <tbody>\n",
       "    <tr>\n",
       "      <th>0</th>\n",
       "      <td>161.131180</td>\n",
       "      <td>NaN</td>\n",
       "      <td>80.200851</td>\n",
       "      <td>24.612379</td>\n",
       "    </tr>\n",
       "    <tr>\n",
       "      <th>1</th>\n",
       "      <td>160.603470</td>\n",
       "      <td>NaN</td>\n",
       "      <td>79.262886</td>\n",
       "      <td>23.895531</td>\n",
       "    </tr>\n",
       "    <tr>\n",
       "      <th>2</th>\n",
       "      <td>160.173615</td>\n",
       "      <td>NaN</td>\n",
       "      <td>74.821999</td>\n",
       "      <td>23.916357</td>\n",
       "    </tr>\n",
       "    <tr>\n",
       "      <th>3</th>\n",
       "      <td>160.149429</td>\n",
       "      <td>NaN</td>\n",
       "      <td>72.878922</td>\n",
       "      <td>23.793688</td>\n",
       "    </tr>\n",
       "    <tr>\n",
       "      <th>4</th>\n",
       "      <td>160.128342</td>\n",
       "      <td>NaN</td>\n",
       "      <td>71.729141</td>\n",
       "      <td>24.104078</td>\n",
       "    </tr>\n",
       "    <tr>\n",
       "      <th>...</th>\n",
       "      <td>...</td>\n",
       "      <td>...</td>\n",
       "      <td>...</td>\n",
       "      <td>...</td>\n",
       "    </tr>\n",
       "    <tr>\n",
       "      <th>18265</th>\n",
       "      <td>NaN</td>\n",
       "      <td>0.187811</td>\n",
       "      <td>19.418915</td>\n",
       "      <td>151.198853</td>\n",
       "    </tr>\n",
       "    <tr>\n",
       "      <th>18266</th>\n",
       "      <td>NaN</td>\n",
       "      <td>0.185574</td>\n",
       "      <td>21.444370</td>\n",
       "      <td>150.976990</td>\n",
       "    </tr>\n",
       "    <tr>\n",
       "      <th>18267</th>\n",
       "      <td>NaN</td>\n",
       "      <td>0.176074</td>\n",
       "      <td>22.646879</td>\n",
       "      <td>151.109222</td>\n",
       "    </tr>\n",
       "    <tr>\n",
       "      <th>18268</th>\n",
       "      <td>NaN</td>\n",
       "      <td>0.174617</td>\n",
       "      <td>22.253584</td>\n",
       "      <td>150.753235</td>\n",
       "    </tr>\n",
       "    <tr>\n",
       "      <th>18269</th>\n",
       "      <td>NaN</td>\n",
       "      <td>0.176627</td>\n",
       "      <td>19.829920</td>\n",
       "      <td>150.961288</td>\n",
       "    </tr>\n",
       "  </tbody>\n",
       "</table>\n",
       "<p>18270 rows × 4 columns</p>\n",
       "</div>"
      ],
      "text/plain": [
       "              DTC      NPHI         GR          SP\n",
       "0      161.131180       NaN  80.200851   24.612379\n",
       "1      160.603470       NaN  79.262886   23.895531\n",
       "2      160.173615       NaN  74.821999   23.916357\n",
       "3      160.149429       NaN  72.878922   23.793688\n",
       "4      160.128342       NaN  71.729141   24.104078\n",
       "...           ...       ...        ...         ...\n",
       "18265         NaN  0.187811  19.418915  151.198853\n",
       "18266         NaN  0.185574  21.444370  150.976990\n",
       "18267         NaN  0.176074  22.646879  151.109222\n",
       "18268         NaN  0.174617  22.253584  150.753235\n",
       "18269         NaN  0.176627  19.829920  150.961288\n",
       "\n",
       "[18270 rows x 4 columns]"
      ]
     },
     "execution_count": 172,
     "metadata": {},
     "output_type": "execute_result"
    }
   ],
   "source": [
    "subset"
   ]
  },
  {
   "cell_type": "markdown",
   "id": "6dca6760",
   "metadata": {},
   "source": [
    "## Distribution of Data before making normalize and standarize\n",
    ">>The main goal of these techniques is to make sure that all variables are on the same scale between (0 and 1)"
   ]
  },
  {
   "cell_type": "code",
   "execution_count": 146,
   "id": "3551d2f5",
   "metadata": {},
   "outputs": [
    {
     "data": {
      "image/png": "[encoded data removed]",
      "text/plain": [
       "<Figure size 720x720 with 4 Axes>"
      ]
     },
     "metadata": {
      "needs_background": "light"
     },
     "output_type": "display_data"
    }
   ],
   "source": [
    "subset.hist(bins=50,figsize=(10,10))\n",
    "plt.show()"
   ]
  },
  {
   "cell_type": "markdown",
   "id": "7763c499",
   "metadata": {},
   "source": [
    "# Q3- Create a function to Normalize the well logs using formula (X-Xmin / Xmax-Xmin)."
   ]
  },
  {
   "cell_type": "markdown",
   "id": "aa78981f",
   "metadata": {},
   "source": [
    "### Normalization is the process of scaling a variable to have a values between 0 and 1. It is typically used for scaling the values of variables that have different units or scales. This is done by subtracting the minimum value of the variable from all the observations, and then dividing by the range (i.e. the difference between the maximum and minimum values)."
   ]
  },
  {
   "cell_type": "code",
   "execution_count": 173,
   "id": "f5490bab",
   "metadata": {},
   "outputs": [],
   "source": [
    "# take copy from original data\n",
    "subset_n = subset.copy()"
   ]
  },
  {
   "cell_type": "code",
   "execution_count": 174,
   "id": "30c429fb",
   "metadata": {},
   "outputs": [],
   "source": [
    "for normalize in subset_n.columns:\n",
    "    min_value = subset[normalize].min()\n",
    "    range_value = subset[normalize].max() - min_value\n",
    "    subset_n[normalize] = (subset[normalize] - min_value) / range_value"
   ]
  },
  {
   "cell_type": "code",
   "execution_count": 175,
   "id": "96bd1bfe",
   "metadata": {},
   "outputs": [
    {
     "data": {
      "text/html": [
       "<div>\n",
       "<style scoped>\n",
       "    .dataframe tbody tr th:only-of-type {\n",
       "        vertical-align: middle;\n",
       "    }\n",
       "\n",
       "    .dataframe tbody tr th {\n",
       "        vertical-align: top;\n",
       "    }\n",
       "\n",
       "    .dataframe thead th {\n",
       "        text-align: right;\n",
       "    }\n",
       "</style>\n",
       "<table border=\"1\" class=\"dataframe\">\n",
       "  <thead>\n",
       "    <tr style=\"text-align: right;\">\n",
       "      <th></th>\n",
       "      <th>DTC</th>\n",
       "      <th>NPHI</th>\n",
       "      <th>GR</th>\n",
       "      <th>SP</th>\n",
       "    </tr>\n",
       "  </thead>\n",
       "  <tbody>\n",
       "    <tr>\n",
       "      <th>0</th>\n",
       "      <td>0.876716</td>\n",
       "      <td>NaN</td>\n",
       "      <td>0.150172</td>\n",
       "      <td>0.018978</td>\n",
       "    </tr>\n",
       "    <tr>\n",
       "      <th>1</th>\n",
       "      <td>0.872327</td>\n",
       "      <td>NaN</td>\n",
       "      <td>0.148269</td>\n",
       "      <td>0.013423</td>\n",
       "    </tr>\n",
       "    <tr>\n",
       "      <th>2</th>\n",
       "      <td>0.868752</td>\n",
       "      <td>NaN</td>\n",
       "      <td>0.139258</td>\n",
       "      <td>0.013584</td>\n",
       "    </tr>\n",
       "    <tr>\n",
       "      <th>3</th>\n",
       "      <td>0.868550</td>\n",
       "      <td>NaN</td>\n",
       "      <td>0.135315</td>\n",
       "      <td>0.012633</td>\n",
       "    </tr>\n",
       "    <tr>\n",
       "      <th>4</th>\n",
       "      <td>0.868375</td>\n",
       "      <td>NaN</td>\n",
       "      <td>0.132982</td>\n",
       "      <td>0.015039</td>\n",
       "    </tr>\n",
       "    <tr>\n",
       "      <th>...</th>\n",
       "      <td>...</td>\n",
       "      <td>...</td>\n",
       "      <td>...</td>\n",
       "      <td>...</td>\n",
       "    </tr>\n",
       "    <tr>\n",
       "      <th>18265</th>\n",
       "      <td>NaN</td>\n",
       "      <td>0.210689</td>\n",
       "      <td>0.026840</td>\n",
       "      <td>1.000000</td>\n",
       "    </tr>\n",
       "    <tr>\n",
       "      <th>18266</th>\n",
       "      <td>NaN</td>\n",
       "      <td>0.207807</td>\n",
       "      <td>0.030949</td>\n",
       "      <td>0.998281</td>\n",
       "    </tr>\n",
       "    <tr>\n",
       "      <th>18267</th>\n",
       "      <td>NaN</td>\n",
       "      <td>0.195563</td>\n",
       "      <td>0.033389</td>\n",
       "      <td>0.999305</td>\n",
       "    </tr>\n",
       "    <tr>\n",
       "      <th>18268</th>\n",
       "      <td>NaN</td>\n",
       "      <td>0.193686</td>\n",
       "      <td>0.032591</td>\n",
       "      <td>0.996547</td>\n",
       "    </tr>\n",
       "    <tr>\n",
       "      <th>18269</th>\n",
       "      <td>NaN</td>\n",
       "      <td>0.196276</td>\n",
       "      <td>0.027674</td>\n",
       "      <td>0.998159</td>\n",
       "    </tr>\n",
       "  </tbody>\n",
       "</table>\n",
       "<p>18270 rows × 4 columns</p>\n",
       "</div>"
      ],
      "text/plain": [
       "            DTC      NPHI        GR        SP\n",
       "0      0.876716       NaN  0.150172  0.018978\n",
       "1      0.872327       NaN  0.148269  0.013423\n",
       "2      0.868752       NaN  0.139258  0.013584\n",
       "3      0.868550       NaN  0.135315  0.012633\n",
       "4      0.868375       NaN  0.132982  0.015039\n",
       "...         ...       ...       ...       ...\n",
       "18265       NaN  0.210689  0.026840  1.000000\n",
       "18266       NaN  0.207807  0.030949  0.998281\n",
       "18267       NaN  0.195563  0.033389  0.999305\n",
       "18268       NaN  0.193686  0.032591  0.996547\n",
       "18269       NaN  0.196276  0.027674  0.998159\n",
       "\n",
       "[18270 rows x 4 columns]"
      ]
     },
     "execution_count": 175,
     "metadata": {},
     "output_type": "execute_result"
    }
   ],
   "source": [
    "subset_n # All values between 0 and 1"
   ]
  },
  {
   "cell_type": "markdown",
   "id": "355d3e8c",
   "metadata": {},
   "source": [
    "# 4. Create a function to Standarize the well logs using formula (X-mean / standard deviation).\n"
   ]
  },
  {
   "cell_type": "markdown",
   "id": "4482a7b6",
   "metadata": {},
   "source": [
    "### Standardization is the process of transforming a variable to have a mean of 0 and a standard deviation of 1.. This is done by subtracting the mean of the variable from all observations, and then dividing by the standard deviation."
   ]
  },
  {
   "cell_type": "code",
   "execution_count": 176,
   "id": "38adbba5",
   "metadata": {},
   "outputs": [],
   "source": [
    "#copy from original data\n",
    "subset_s = subset.copy()"
   ]
  },
  {
   "cell_type": "code",
   "execution_count": 181,
   "id": "7d0602db",
   "metadata": {},
   "outputs": [],
   "source": [
    "for standarize in subset_s.columns:\n",
    "    mean = subset_s[standarize].mean()\n",
    "    std_div = subset_s[standarize].std()\n",
    "    subset_s[standarize] = subset_s[standarize]-mean/std_div"
   ]
  },
  {
   "cell_type": "code",
   "execution_count": 185,
   "id": "03fea5fd",
   "metadata": {},
   "outputs": [
    {
     "data": {
      "text/html": [
       "<div>\n",
       "<style scoped>\n",
       "    .dataframe tbody tr th:only-of-type {\n",
       "        vertical-align: middle;\n",
       "    }\n",
       "\n",
       "    .dataframe tbody tr th {\n",
       "        vertical-align: top;\n",
       "    }\n",
       "\n",
       "    .dataframe thead th {\n",
       "        text-align: right;\n",
       "    }\n",
       "</style>\n",
       "<table border=\"1\" class=\"dataframe\">\n",
       "  <thead>\n",
       "    <tr style=\"text-align: right;\">\n",
       "      <th></th>\n",
       "      <th>DTC</th>\n",
       "      <th>NPHI</th>\n",
       "      <th>GR</th>\n",
       "      <th>SP</th>\n",
       "    </tr>\n",
       "  </thead>\n",
       "  <tbody>\n",
       "    <tr>\n",
       "      <th>0</th>\n",
       "      <td>-2.014137e+12</td>\n",
       "      <td>-4.119471e+12</td>\n",
       "      <td>-2.008187e+13</td>\n",
       "      <td>-1.569890e+14</td>\n",
       "    </tr>\n",
       "    <tr>\n",
       "      <th>1</th>\n",
       "      <td>-2.014137e+12</td>\n",
       "      <td>-4.119471e+12</td>\n",
       "      <td>-2.008187e+13</td>\n",
       "      <td>-1.569890e+14</td>\n",
       "    </tr>\n",
       "    <tr>\n",
       "      <th>2</th>\n",
       "      <td>-2.014137e+12</td>\n",
       "      <td>-4.119471e+12</td>\n",
       "      <td>-2.008187e+13</td>\n",
       "      <td>-1.569890e+14</td>\n",
       "    </tr>\n",
       "    <tr>\n",
       "      <th>3</th>\n",
       "      <td>-2.014137e+12</td>\n",
       "      <td>-4.119471e+12</td>\n",
       "      <td>-2.008187e+13</td>\n",
       "      <td>-1.569890e+14</td>\n",
       "    </tr>\n",
       "    <tr>\n",
       "      <th>4</th>\n",
       "      <td>-2.014137e+12</td>\n",
       "      <td>-4.119471e+12</td>\n",
       "      <td>-2.008187e+13</td>\n",
       "      <td>-1.569890e+14</td>\n",
       "    </tr>\n",
       "    <tr>\n",
       "      <th>...</th>\n",
       "      <td>...</td>\n",
       "      <td>...</td>\n",
       "      <td>...</td>\n",
       "      <td>...</td>\n",
       "    </tr>\n",
       "    <tr>\n",
       "      <th>18265</th>\n",
       "      <td>-2.014137e+12</td>\n",
       "      <td>-4.119471e+12</td>\n",
       "      <td>-2.008187e+13</td>\n",
       "      <td>-1.569890e+14</td>\n",
       "    </tr>\n",
       "    <tr>\n",
       "      <th>18266</th>\n",
       "      <td>-2.014137e+12</td>\n",
       "      <td>-4.119471e+12</td>\n",
       "      <td>-2.008187e+13</td>\n",
       "      <td>-1.569890e+14</td>\n",
       "    </tr>\n",
       "    <tr>\n",
       "      <th>18267</th>\n",
       "      <td>-2.014137e+12</td>\n",
       "      <td>-4.119471e+12</td>\n",
       "      <td>-2.008187e+13</td>\n",
       "      <td>-1.569890e+14</td>\n",
       "    </tr>\n",
       "    <tr>\n",
       "      <th>18268</th>\n",
       "      <td>-2.014137e+12</td>\n",
       "      <td>-4.119471e+12</td>\n",
       "      <td>-2.008187e+13</td>\n",
       "      <td>-1.569890e+14</td>\n",
       "    </tr>\n",
       "    <tr>\n",
       "      <th>18269</th>\n",
       "      <td>-2.014137e+12</td>\n",
       "      <td>-4.119471e+12</td>\n",
       "      <td>-2.008187e+13</td>\n",
       "      <td>-1.569890e+14</td>\n",
       "    </tr>\n",
       "  </tbody>\n",
       "</table>\n",
       "<p>18270 rows × 4 columns</p>\n",
       "</div>"
      ],
      "text/plain": [
       "                DTC          NPHI            GR            SP\n",
       "0     -2.014137e+12 -4.119471e+12 -2.008187e+13 -1.569890e+14\n",
       "1     -2.014137e+12 -4.119471e+12 -2.008187e+13 -1.569890e+14\n",
       "2     -2.014137e+12 -4.119471e+12 -2.008187e+13 -1.569890e+14\n",
       "3     -2.014137e+12 -4.119471e+12 -2.008187e+13 -1.569890e+14\n",
       "4     -2.014137e+12 -4.119471e+12 -2.008187e+13 -1.569890e+14\n",
       "...             ...           ...           ...           ...\n",
       "18265 -2.014137e+12 -4.119471e+12 -2.008187e+13 -1.569890e+14\n",
       "18266 -2.014137e+12 -4.119471e+12 -2.008187e+13 -1.569890e+14\n",
       "18267 -2.014137e+12 -4.119471e+12 -2.008187e+13 -1.569890e+14\n",
       "18268 -2.014137e+12 -4.119471e+12 -2.008187e+13 -1.569890e+14\n",
       "18269 -2.014137e+12 -4.119471e+12 -2.008187e+13 -1.569890e+14\n",
       "\n",
       "[18270 rows x 4 columns]"
      ]
     },
     "execution_count": 185,
     "metadata": {},
     "output_type": "execute_result"
    }
   ],
   "source": [
    "subset_s"
   ]
  },
  {
   "cell_type": "markdown",
   "id": "86864ef4",
   "metadata": {},
   "source": [
    "## 5. Plot histogram of the normalized and standarized well logs."
   ]
  },
  {
   "cell_type": "code",
   "execution_count": 186,
   "id": "828f0580",
   "metadata": {},
   "outputs": [
    {
     "data": {
      "image/png": "[encoded data removed]",
      "text/plain": [
       "<Figure size 720x720 with 4 Axes>"
      ]
     },
     "metadata": {
      "needs_background": "light"
     },
     "output_type": "display_data"
    }
   ],
   "source": [
    "# normalization histogram\n",
    "subset_n.hist(bins=50,figsize=(10,10))\n",
    "plt.show()"
   ]
  },
  {
   "cell_type": "code",
   "execution_count": 187,
   "id": "d5b2d6b2",
   "metadata": {},
   "outputs": [
    {
     "data": {
      "image/png": "[encoded data removed]",
      "text/plain": [
       "<Figure size 720x720 with 4 Axes>"
      ]
     },
     "metadata": {
      "needs_background": "light"
     },
     "output_type": "display_data"
    }
   ],
   "source": [
    "# standarization histogram\n",
    "subset_s.hist(bins=50,figsize=(10,10))\n",
    "plt.show()"
   ]
  },
  {
   "cell_type": "markdown",
   "id": "1f59c7fd",
   "metadata": {},
   "source": [
    "## we can aslo make normalization by using sklearn library "
   ]
  },
  {
   "cell_type": "code",
   "execution_count": 200,
   "id": "8e53827e",
   "metadata": {},
   "outputs": [],
   "source": [
    "from sklearn.preprocessing import MinMaxScaler\n",
    "\n",
    "scaler = MinMaxScaler(copy=True, feature_range=(0, 1))\n",
    "\n",
    "scaler.fit_transform(subset)\n",
    "\n",
    "subset_normalized = scaler.fit_transform(subset)\n",
    "\n"
   ]
  },
  {
   "cell_type": "code",
   "execution_count": 203,
   "id": "09f27f29",
   "metadata": {},
   "outputs": [
    {
     "data": {
      "image/png": "[encoded data removed]",
      "text/plain": [
       "<Figure size 432x288 with 1 Axes>"
      ]
     },
     "metadata": {
      "needs_background": "light"
     },
     "output_type": "display_data"
    }
   ],
   "source": [
    "plt.hist(subset_normalized, bins=50)\n",
    "\n",
    "# Add labels and show the plot\n",
    "plt.xlabel('normalized values')\n",
    "plt.ylabel('Frequency')\n",
    "plt.show()"
   ]
  },
  {
   "cell_type": "code",
   "execution_count": 201,
   "id": "56828fcc",
   "metadata": {},
   "outputs": [],
   "source": [
    "#import library\n",
    "from sklearn.preprocessing import StandardScaler\n",
    "# Create an instance of StandardScaler\n",
    "scaler = StandardScaler(copy=True,with_mean=True,with_std=True)\n",
    "# Fit the scaler to your dataset\n",
    "scaler.fit_transform(subset)\n",
    "\n",
    "# Transform the dataset\n",
    "subset_standardized = scaler.transform(subset)"
   ]
  },
  {
   "cell_type": "code",
   "execution_count": 202,
   "id": "ce200e25",
   "metadata": {},
   "outputs": [
    {
     "data": {
      "image/png": "[encoded data removed]",
      "text/plain": [
       "<Figure size 432x288 with 1 Axes>"
      ]
     },
     "metadata": {
      "needs_background": "light"
     },
     "output_type": "display_data"
    }
   ],
   "source": [
    "plt.hist(subset_standardized, bins=50)\n",
    "\n",
    "# Add labels and show the plot\n",
    "plt.xlabel('Standardized values')\n",
    "plt.ylabel('Frequency')\n",
    "plt.show()"
   ]
  },
  {
   "cell_type": "code",
   "execution_count": null,
   "id": "eb4c95fe",
   "metadata": {},
   "outputs": [],
   "source": []
  }
 ],
 "metadata": {
  "kernelspec": {
   "display_name": "Python 3 (ipykernel)",
   "language": "python",
   "name": "python3"
  },
  "language_info": {
   "codemirror_mode": {
    "name": "ipython",
    "version": 3
   },
   "file_extension": ".py",
   "mimetype": "text/x-python",
   "name": "python",
   "nbconvert_exporter": "python",
   "pygments_lexer": "ipython3",
   "version": "3.9.12"
  },
  "toc": {
   "base_numbering": 1,
   "nav_menu": {},
   "number_sections": false,
   "sideBar": true,
   "skip_h1_title": true,
   "title_cell": "Table of Contents",
   "title_sidebar": "Contents",
   "toc_cell": false,
   "toc_position": {},
   "toc_section_display": true,
   "toc_window_display": false
  },
  "varInspector": {
   "cols": {
    "lenName": 16,
    "lenType": 16,
    "lenVar": 40
   },
   "kernels_config": {
    "python": {
     "delete_cmd_postfix": "",
     "delete_cmd_prefix": "del ",
     "library": "var_list.py",
     "varRefreshCmd": "print(var_dic_list())"
    },
    "r": {
     "delete_cmd_postfix": ") ",
     "delete_cmd_prefix": "rm(",
     "library": "var_list.r",
     "varRefreshCmd": "cat(var_dic_list()) "
    }
   },
   "types_to_exclude": [
    "module",
    "function",
    "builtin_function_or_method",
    "instance",
    "_Feature"
   ],
   "window_display": false
  }
 },
 "nbformat": 4,
 "nbformat_minor": 5
}
